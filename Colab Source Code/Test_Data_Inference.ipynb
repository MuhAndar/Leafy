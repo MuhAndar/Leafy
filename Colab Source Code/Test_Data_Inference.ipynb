{
  "cells": [
    {
      "cell_type": "code",
      "execution_count": null,
      "metadata": {
        "id": "VgqG18Nl3qbD"
      },
      "outputs": [],
      "source": [
        "# clone YOLOv5 repository\n",
        "!git clone https://github.com/ultralytics/yolov5  # clone repo\n",
        "%cd yolov5\n",
        "!git reset --hard 064365d8683fd002e9ad789c1e91fa3d021b44f0"
      ]
    },
    {
      "cell_type": "code",
      "execution_count": null,
      "metadata": {
        "id": "lVaUDf7g6XRK"
      },
      "outputs": [],
      "source": [
        "!pip install -qr requirements.txt  # install dependencies (ignore errors)\n",
        "import torch\n",
        "\n",
        "from IPython.display import Image, clear_output  # to display images\n",
        "from utils.downloads import attempt_download  # to download models/datasets"
      ]
    },
    {
      "cell_type": "code",
      "execution_count": null,
      "metadata": {
        "id": "ZJoQPiOF2ZXU"
      },
      "outputs": [],
      "source": [
        "# Check the contents of the directory to confirm the presence of best.pt\n",
        "%ls /content/yolov5/\n",
        "\n",
        "# Navigate to the YOLOv5 directory\n",
        "%cd /content/yolov5/\n",
        "\n",
        "# Run inference using the correct path to the weights file\n",
        "!python detect.py --weights /content/yolov5/best.pt --img 640 --conf 0.4 --source /content/yolov5/test"
      ]
    },
    {
      "cell_type": "code",
      "execution_count": null,
      "metadata": {
        "id": "OpEaiuDf3laM"
      },
      "outputs": [],
      "source": [
        "import glob\n",
        "import matplotlib.pyplot as plt\n",
        "from PIL import Image\n",
        "\n",
        "# Check the content of the output directory to find the exact folder name\n",
        "# %ls /content/yolov5/runs/detect/  # Uncomment this line if you want to check the directory content in your Colab environment\n",
        "\n",
        "# Assuming the results are in the 'exp' folder, adjust if the folder name is different\n",
        "result_folder = 'exp2'  # Change this if the folder name is different\n",
        "\n",
        "# Get the list of image file paths\n",
        "image_paths = glob.glob(f'/content/yolov5/runs/detect/{result_folder}/*.jpg')[:80]  # Adjust the path if necessary\n",
        "\n",
        "# Display the images in a 10x4 grid\n",
        "fig, axes = plt.subplots(10, 4, figsize=(20, 40))  # 10 rows, 4 columns\n",
        "axes = axes.flatten()\n",
        "\n",
        "for img_path, ax in zip(image_paths, axes):\n",
        "    img = Image.open(img_path)\n",
        "    ax.imshow(img)\n",
        "    ax.axis('off')  # Hide the axis\n",
        "\n",
        "plt.tight_layout()\n",
        "plt.show()\n"
      ]
    },
    {
      "cell_type": "code",
      "execution_count": null,
      "metadata": {
        "id": "X1r1sQdk-CnE"
      },
      "outputs": [],
      "source": [
        "# Check the contents of the directory to confirm the presence of best.pt\n",
        "%ls /content/yolov5/\n",
        "\n",
        "# Navigate to the YOLOv5 directory\n",
        "%cd /content/yolov5/\n",
        "\n",
        "# Run inference using the correct path to the weights file\n",
        "!python detect.py --weights /content/yolov5/best.pt --img 640 --conf 0.7 --source /content/yolov5/test"
      ]
    },
    {
      "cell_type": "code",
      "execution_count": null,
      "metadata": {
        "id": "GNv8PfAb-1uu"
      },
      "outputs": [],
      "source": [
        "import glob\n",
        "import matplotlib.pyplot as plt\n",
        "from PIL import Image\n",
        "\n",
        "# Check the content of the output directory to find the exact folder name\n",
        "# %ls /content/yolov5/runs/detect/  # Uncomment this line if you want to check the directory content in your Colab environment\n",
        "\n",
        "# Assuming the results are in the 'exp' folder, adjust if the folder name is different\n",
        "result_folder = 'exp'  # Change this if the folder name is different\n",
        "\n",
        "# Get the list of image file paths\n",
        "image_paths = glob.glob(f'/content/yolov5/runs/detect/{result_folder}/*.jpg')[:40]  # Adjust the path if necessary\n",
        "\n",
        "# Display the images in a 10x4 grid\n",
        "fig, axes = plt.subplots(10, 4, figsize=(20, 40))  # 10 rows, 4 columns\n",
        "axes = axes.flatten()\n",
        "\n",
        "for img_path, ax in zip(image_paths, axes):\n",
        "    img = Image.open(img_path)\n",
        "    ax.imshow(img)\n",
        "    ax.axis('off')  # Hide the axis\n",
        "\n",
        "plt.tight_layout()\n",
        "plt.show()\n"
      ]
    },
    {
      "cell_type": "code",
      "execution_count": null,
      "metadata": {
        "id": "J0yM3x_Zdo4J"
      },
      "outputs": [],
      "source": [
        "import glob\n",
        "import matplotlib.pyplot as plt\n",
        "from PIL import Image\n",
        "\n",
        "# Check the content of the output directory to find the exact folder name\n",
        "# %ls /content/yolov5/runs/detect/  # Uncomment this line if you want to check the directory content in your Colab environment\n",
        "\n",
        "# Assuming the results are in the 'exp' folder, adjust if the folder name is different\n",
        "result_folder = 'exp'  # Change this if the folder name is different\n",
        "\n",
        "# Get the list of image file paths\n",
        "image_paths = glob.glob(f'/content/yolov5/runs/detect/{result_folder}/*.jpg')[40:80]  # Adjust the path if necessary\n",
        "\n",
        "# Display the images in a 10x4 grid\n",
        "fig, axes = plt.subplots(10, 4, figsize=(20, 40))  # 10 rows, 4 columns\n",
        "axes = axes.flatten()\n",
        "\n",
        "for img_path, ax in zip(image_paths, axes):\n",
        "    img = Image.open(img_path)\n",
        "    ax.imshow(img)\n",
        "    ax.axis('off')  # Hide the axis\n",
        "\n",
        "plt.tight_layout()\n",
        "plt.show()"
      ]
    },
    {
      "cell_type": "code",
      "source": [
        "# Check the contents of the directory to confirm the presence of best.pt\n",
        "%ls /content/yolov5/\n",
        "\n",
        "# Navigate to the YOLOv5 directory\n",
        "%cd /content/yolov5/\n",
        "\n",
        "# Run inference using the correct path to the weights file\n",
        "!python detect.py --weights /content/yolov5/best.pt --img 640 --conf 0.4 --source /content/yolov5/resize.jpg"
      ],
      "metadata": {
        "id": "ZJbuUq1letvI"
      },
      "execution_count": null,
      "outputs": []
    },
    {
      "cell_type": "code",
      "source": [
        "import glob\n",
        "import matplotlib.pyplot as plt\n",
        "from PIL import Image\n",
        "\n",
        "# Check the content of the output directory to find the exact folder name\n",
        "# %ls /content/yolov5/runs/detect/  # Uncomment this line if you want to check the directory content in your Colab environment\n",
        "\n",
        "# Assuming the results are in the 'exp' folder, adjust if the folder name is different\n",
        "result_folder = 'exp2'  # Change this if the folder name is different\n",
        "\n",
        "# Get the list of image file paths\n",
        "image_paths = glob.glob(f'/content/yolov5/runs/detect/{result_folder}/*.jpg')  # Adjust the path if necessary\n",
        "\n",
        "# Check if there is at least one image in the directory\n",
        "if image_paths:\n",
        "    # Plot the first image\n",
        "    img_path = image_paths[0]  # Use the first image in the list\n",
        "    img = Image.open(img_path)\n",
        "\n",
        "    plt.figure(figsize=(10, 10))  # Set the size of the plot\n",
        "    plt.imshow(img)\n",
        "    plt.axis('off')  # Hide the axis\n",
        "    plt.show()\n",
        "else:\n",
        "    print(\"No images found in the specified directory.\")\n"
      ],
      "metadata": {
        "id": "Iaxy3qgzeuII"
      },
      "execution_count": null,
      "outputs": []
    },
    {
      "cell_type": "code",
      "source": [
        "# Check the contents of the directory to confirm the presence of best.pt\n",
        "%ls /content/yolov5/\n",
        "\n",
        "# Navigate to the YOLOv5 directory\n",
        "%cd /content/yolov5/\n",
        "\n",
        "# Run inference using the correct path to the weights file\n",
        "!python detect.py --weights /content/yolov5/best.pt --img 640 --conf 0.4 --source /content/yolov5/41.jpg"
      ],
      "metadata": {
        "id": "IIKPl5i_gj4w"
      },
      "execution_count": null,
      "outputs": []
    },
    {
      "cell_type": "code",
      "source": [
        "import glob\n",
        "import matplotlib.pyplot as plt\n",
        "from PIL import Image\n",
        "\n",
        "# Check the content of the output directory to find the exact folder name\n",
        "# %ls /content/yolov5/runs/detect/  # Uncomment this line if you want to check the directory content in your Colab environment\n",
        "\n",
        "# Assuming the results are in the 'exp' folder, adjust if the folder name is different\n",
        "result_folder = 'exp3'  # Change this if the folder name is different\n",
        "\n",
        "# Get the list of image file paths\n",
        "image_paths = glob.glob(f'/content/yolov5/runs/detect/{result_folder}/*.jpg')  # Adjust the path if necessary\n",
        "\n",
        "# Check if there is at least one image in the directory\n",
        "if image_paths:\n",
        "    # Plot the first image\n",
        "    img_path = image_paths[0]  # Use the first image in the list\n",
        "    img = Image.open(img_path)\n",
        "\n",
        "    plt.figure(figsize=(10, 10))  # Set the size of the plot\n",
        "    plt.imshow(img)\n",
        "    plt.axis('off')  # Hide the axis\n",
        "    plt.show()\n",
        "else:\n",
        "    print(\"No images found in the specified directory.\")"
      ],
      "metadata": {
        "id": "cixlRl7RglmX"
      },
      "execution_count": null,
      "outputs": []
    }
  ],
  "metadata": {
    "colab": {
      "provenance": []
    },
    "kernelspec": {
      "display_name": "Python 3",
      "name": "python3"
    },
    "language_info": {
      "name": "python"
    }
  },
  "nbformat": 4,
  "nbformat_minor": 0
}